{
 "cells": [
  {
   "cell_type": "code",
   "execution_count": 1,
   "metadata": {},
   "outputs": [],
   "source": [
    "import os\n",
    "import json\n",
    "from sys import stdout\n",
    "data_path = '../dependencies/datasets/'"
   ]
  },
  {
   "cell_type": "code",
   "execution_count": 2,
   "metadata": {},
   "outputs": [],
   "source": [
    "def sweep_dir(folder, recursive=True, max_size=20_000):\n",
    "    '''d\n",
    "    sweep a given folder for all images, process and load them into a np dataset which gets returned\n",
    "    '''\n",
    "    dataset = []\n",
    "    for file in os.listdir(folder):\n",
    "        if len(dataset) >= max_size:\n",
    "            return dataset\n",
    "        if file.endswith(\".json\"):\n",
    "            with open(''.join([folder,file]), 'r') as fp:  \n",
    "                dataset.append(json.load(fp))\n",
    "        elif os.path.isdir(folder+file) and recursive is True: #if this is a directory\n",
    "            dataset+= sweep_dir(folder+file+'/')\n",
    "    return dataset\n",
    "raw_financial, raw_not_financial = \\\n",
    "sweep_dir(data_path+'fin/', max_size=20_000),\\\n",
    "sweep_dir(data_path+'not_fin/', max_size=30_000)"
   ]
  },
  {
   "cell_type": "code",
   "execution_count": 4,
   "metadata": {},
   "outputs": [
    {
     "name": "stdout",
     "output_type": "stream",
     "text": [
      "59586 59586\n"
     ]
    }
   ],
   "source": [
    "X = raw_financial + raw_not_financial\n",
    "y = [1]*len(raw_financial) + [0]*len(raw_not_financial)\n",
    "print(len(X), len(y))"
   ]
  },
  {
   "cell_type": "code",
   "execution_count": 5,
   "metadata": {},
   "outputs": [],
   "source": [
    "import nltk\n",
    "from sklearn.pipeline import BaseEstimator, TransformerMixin, Pipeline\n",
    "import urlextract\n",
    "import re\n",
    "from html import unescape\n",
    "import string\n",
    "from nltk.stem import WordNetLemmatizer\n",
    "\n",
    "def html_to_plain_text(html: str) -> str:\n",
    "    from bs4 import BeautifulSoup\n",
    "    return BeautifulSoup(html, 'html.parser').get_text()\n",
    "\n",
    "class Cleaner(BaseEstimator, TransformerMixin):\n",
    "    def __init__(self, include_subj=True, english_only=True, replace_html=True, lower_case=True, stemming = False, remove_punctuation=True,\n",
    "                 replace_urls=True, replace_numbers=True):\n",
    "        self.include_subj = include_subj\n",
    "        self.lower_case = lower_case\n",
    "        self.english_only = english_only\n",
    "        self.replace_html = replace_html\n",
    "        self.stemming = stemming\n",
    "        self.remove_punctuation = remove_punctuation\n",
    "        self.replace_urls = replace_urls\n",
    "        self.replace_numbers = replace_numbers\n",
    "    def fit(self, X):\n",
    "        return self\n",
    "    def transform(self, X):\n",
    "        X_transformed = []\n",
    "        for article in X:\n",
    "            if self.english_only and (article['language'] != \"english\"):\n",
    "                continue\n",
    "            text = \" \".join([article['title'], article['text']]) if self.include_subj else article['text']\n",
    "            if self.replace_html:\n",
    "                text = html_to_plain_text(text)\n",
    "            if self.lower_case:\n",
    "                text = text.lower()\n",
    "            if self.replace_urls:\n",
    "                url_extractor = urlextract.URLExtract() \n",
    "                urls = list(set(url_extractor.find_urls(text)))\n",
    "                urls.sort(key=lambda url: len(url), reverse=True)\n",
    "                for url in urls:\n",
    "                    text = text.replace(url, \" URL \")\n",
    "            if self.replace_numbers:\n",
    "                text = re.sub(r'\\d+(?:\\.\\d*(?:[eE]\\d+))?', ' NUMBER ', text)\n",
    "            if self.remove_punctuation:\n",
    "                text = text.replace(\"\\'\", \"\")\n",
    "                text = text.replace(\"’\", \"\")\n",
    "                text = re.sub(r'\\W+', ' ', text, flags=re.M)\n",
    "            if self.stemming:\n",
    "                stemmer = WordNetLemmatizer()\n",
    "                text = ' '.join([stemmer.lemmatize(word) for word in text.split()])\n",
    "            X_transformed.append(text)\n",
    "        return X_transformed"
   ]
  },
  {
   "cell_type": "code",
   "execution_count": 6,
   "metadata": {},
   "outputs": [
    {
     "name": "stdout",
     "output_type": "stream",
     "text": [
      "59586 59586\n"
     ]
    }
   ],
   "source": [
    "import numpy as np\n",
    "import random\n",
    "#shuffling the 2 lists together\n",
    "combined = list(zip(X, y))\n",
    "random.shuffle(combined)\n",
    "X[:], y[:] = zip(*combined)\n",
    "print(len(X), len(y))"
   ]
  },
  {
   "cell_type": "code",
   "execution_count": 8,
   "metadata": {},
   "outputs": [],
   "source": [
    "from sklearn.model_selection import train_test_split\n",
    "X_train, X_test, y_train, y_test = train_test_split(X, y, test_size = 0.2, random_state=42)"
   ]
  },
  {
   "cell_type": "code",
   "execution_count": 9,
   "metadata": {},
   "outputs": [
    {
     "name": "stderr",
     "output_type": "stream",
     "text": [
      "/anaconda3/lib/python3.6/site-packages/sklearn/feature_extraction/text.py:1039: FutureWarning: Conversion of the second argument of issubdtype from `float` to `np.floating` is deprecated. In future, it will be treated as `np.float64 == np.dtype(float).type`.\n",
      "  if hasattr(X, 'dtype') and np.issubdtype(X.dtype, np.float):\n"
     ]
    },
    {
     "data": {
      "text/plain": [
       "<47668x20000 sparse matrix of type '<class 'numpy.float64'>'\n",
       "\twith 6253323 stored elements in Compressed Sparse Row format>"
      ]
     },
     "execution_count": 9,
     "metadata": {},
     "output_type": "execute_result"
    }
   ],
   "source": [
    "from sklearn.pipeline import Pipeline\n",
    "from sklearn.feature_extraction.text import CountVectorizer\n",
    "from sklearn.feature_extraction.text import TfidfTransformer\n",
    "text_clf = Pipeline([\n",
    "    ('clean', Cleaner(stemming=True, include_subj=True, english_only=True)), #cleans text\n",
    "    ('vect', CountVectorizer(stop_words=\"english\", max_features=20_000)), #turns words to counts \n",
    "    ('tfidf', TfidfTransformer()), #turns counts to tf-idf\n",
    "])\n",
    "X_train_prepared = text_clf.fit_transform(X_train)\n",
    "X_train_prepared"
   ]
  },
  {
   "cell_type": "code",
   "execution_count": 10,
   "metadata": {},
   "outputs": [],
   "source": [
    "bias_list = {\n",
    "        'title': \"\",\n",
    "        'language': \"english\",\n",
    "        'text': \"jumped hike trend-line candle ipo fibonacci sma rise growth bulls bears bullish rally surge \\\n",
    "                soared growth buy higher gains outperform lower \\\n",
    "              slumped fell worry bearish miss sell losses warn \\\n",
    "                 plummet bad down low disappointed weak worry\"}"
   ]
  },
  {
   "cell_type": "code",
   "execution_count": 11,
   "metadata": {},
   "outputs": [],
   "source": [
    "from scipy.sparse import csr_matrix\n",
    "def set_bias(X, bias_list, bias_strength:int=1):\n",
    "    return csr_matrix(np.add(X, text_clf.transform([bias_list]).toarray()*bias_strength, where=X!=0))\n",
    "\n",
    "X_train_prepared_biased = set_bias(X_train_prepared.toarray(),\n",
    "                                   bias_list,\n",
    "                                   bias_strength=5)\n"
   ]
  },
  {
   "cell_type": "code",
   "execution_count": 13,
   "metadata": {},
   "outputs": [
    {
     "data": {
      "text/plain": [
       "(array([0, 1]), array([24008, 23660]))"
      ]
     },
     "execution_count": 13,
     "metadata": {},
     "output_type": "execute_result"
    }
   ],
   "source": [
    "np.unique(y_train, return_counts=True)"
   ]
  },
  {
   "cell_type": "code",
   "execution_count": 14,
   "metadata": {},
   "outputs": [
    {
     "name": "stderr",
     "output_type": "stream",
     "text": [
      "/anaconda3/lib/python3.6/site-packages/sklearn/ensemble/weight_boosting.py:29: DeprecationWarning: numpy.core.umath_tests is an internal NumPy module and should not be imported. It will be removed in a future NumPy release.\n",
      "  from numpy.core.umath_tests import inner1d\n"
     ]
    }
   ],
   "source": [
    "from sklearn.ensemble import RandomForestClassifier, VotingClassifier\n",
    "from sklearn.linear_model import LogisticRegression\n",
    "from sklearn.naive_bayes import MultinomialNB\n",
    "from sklearn.svm import LinearSVC\n",
    "from xgboost import XGBClassifier\n",
    "log_clf = LogisticRegression(solver=\"liblinear\", random_state=42, n_jobs=-1)\n",
    "lin_svc = LinearSVC(random_state=42)\n",
    "#lin_svc = SVC(kernel='linear',probability=True)\n",
    "#boost_clf = XGBClassifier(n_estimators=100, random_state=42, n_jobs=-1)\n",
    "forest_clf = RandomForestClassifier(random_state=42)\n",
    "#extra_clf = ExtraTreesClassifier(n_estimators=100, max_leaf_nodes=16, n_jobs=-1) #random thresholds set\n",
    "\n",
    "voting_clf = VotingClassifier(\n",
    "    estimators = [('log_reg', log_clf), ('forest_clf', forest_clf), ('sgd_clf', lin_svc)],\n",
    "    voting = 'hard',\n",
    ")"
   ]
  },
  {
   "cell_type": "code",
   "execution_count": 15,
   "metadata": {
    "scrolled": true
   },
   "outputs": [
    {
     "name": "stderr",
     "output_type": "stream",
     "text": [
      "[Parallel(n_jobs=1)]: Done  10 out of  10 | elapsed:   53.1s finished\n"
     ]
    },
    {
     "name": "stdout",
     "output_type": "stream",
     "text": [
      "LogisticRegression 0.9412125536770735\n",
      "LinearSVC 0.9622802730744742\n"
     ]
    },
    {
     "name": "stderr",
     "output_type": "stream",
     "text": [
      "[Parallel(n_jobs=1)]: Done  10 out of  10 | elapsed:   26.3s finished\n"
     ]
    }
   ],
   "source": [
    "from sklearn.metrics import accuracy_score\n",
    "from sklearn.model_selection import cross_val_score\n",
    "from warnings import filterwarnings as warn\n",
    "warn(\"ignore\", category=DeprecationWarning)\n",
    "for clf in (log_clf, lin_svc):\n",
    "    score = cross_val_score(clf, X_train_prepared_biased , y_train, cv=10, verbose=1, scoring=\"f1\")\n",
    "    print(clf.__class__.__name__, score.mean())"
   ]
  },
  {
   "cell_type": "code",
   "execution_count": 53,
   "metadata": {},
   "outputs": [
    {
     "data": {
      "text/plain": [
       "'l2'"
      ]
     },
     "execution_count": 53,
     "metadata": {},
     "output_type": "execute_result"
    }
   ],
   "source": [
    "log_clf."
   ]
  },
  {
   "cell_type": "code",
   "execution_count": 16,
   "metadata": {},
   "outputs": [
    {
     "name": "stdout",
     "output_type": "stream",
     "text": [
      "Fitting 10 folds for each of 9 candidates, totalling 90 fits\n"
     ]
    },
    {
     "name": "stderr",
     "output_type": "stream",
     "text": [
      "[Parallel(n_jobs=1)]: Done  90 out of  90 | elapsed:  2.3min finished\n"
     ]
    },
    {
     "name": "stdout",
     "output_type": "stream",
     "text": [
      "Acheaved score of:\t 0.9440910367135875\n",
      "With following paramaters:\t {'C': 1, 'dual': False, 'penalty': 'l1'}\n"
     ]
    }
   ],
   "source": [
    "from sklearn.model_selection import GridSearchCV\n",
    "param_grid = [\n",
    "    {'C': [0.8,0.9,1], 'dual': [False, True], 'penalty': ['l2']},\n",
    "    {'C': [0.8,0.9,1], 'dual': [False], 'penalty': ['l1']}\n",
    "]\n",
    "grid_search = GridSearchCV(log_clf, param_grid, cv=10, return_train_score = True, verbose=1, scoring=\"f1\")\n",
    "grid_search.fit(X_train_prepared_biased, y_train)\n",
    "print(\"Acheaved score of:\\t\", grid_search.best_score_)\n",
    "print(\"With following paramaters:\\t\", grid_search.best_params_)\n",
    "#print(\"The model:\",random_search.best_estimator_)"
   ]
  },
  {
   "cell_type": "code",
   "execution_count": 19,
   "metadata": {},
   "outputs": [
    {
     "name": "stdout",
     "output_type": "stream",
     "text": [
      "Fitting 5 folds for each of 29 candidates, totalling 145 fits\n",
      "[CV] C=0.1, dual=False, penalty=l2 ...................................\n",
      "[CV] .......................... C=0.1, dual=False, penalty=l2 -   0.0s\n",
      "[CV] C=0.1, dual=False, penalty=l2 ...................................\n"
     ]
    },
    {
     "name": "stderr",
     "output_type": "stream",
     "text": [
      "[Parallel(n_jobs=1)]: Done   1 out of   1 | elapsed:    2.1s remaining:    0.0s\n"
     ]
    },
    {
     "name": "stdout",
     "output_type": "stream",
     "text": [
      "[CV] .......................... C=0.1, dual=False, penalty=l2 -   0.0s\n",
      "[CV] C=0.1, dual=False, penalty=l2 ...................................\n",
      "[CV] .......................... C=0.1, dual=False, penalty=l2 -   0.0s\n",
      "[CV] C=0.1, dual=False, penalty=l2 ...................................\n",
      "[CV] .......................... C=0.1, dual=False, penalty=l2 -   0.0s\n",
      "[CV] C=0.1, dual=False, penalty=l2 ...................................\n",
      "[CV] .......................... C=0.1, dual=False, penalty=l2 -   0.0s\n",
      "[CV] C=0.1, dual=True, penalty=l2 ....................................\n",
      "[CV] ........................... C=0.1, dual=True, penalty=l2 -   0.0s\n",
      "[CV] C=0.1, dual=True, penalty=l2 ....................................\n",
      "[CV] ........................... C=0.1, dual=True, penalty=l2 -   0.0s\n",
      "[CV] C=0.1, dual=True, penalty=l2 ....................................\n",
      "[CV] ........................... C=0.1, dual=True, penalty=l2 -   0.0s\n",
      "[CV] C=0.1, dual=True, penalty=l2 ....................................\n",
      "[CV] ........................... C=0.1, dual=True, penalty=l2 -   0.0s\n",
      "[CV] C=0.1, dual=True, penalty=l2 ....................................\n",
      "[CV] ........................... C=0.1, dual=True, penalty=l2 -   0.0s\n",
      "[CV] C=0.2, dual=False, penalty=l2 ...................................\n",
      "[CV] .......................... C=0.2, dual=False, penalty=l2 -   0.0s\n",
      "[CV] C=0.2, dual=False, penalty=l2 ...................................\n",
      "[CV] .......................... C=0.2, dual=False, penalty=l2 -   0.0s\n",
      "[CV] C=0.2, dual=False, penalty=l2 ...................................\n",
      "[CV] .......................... C=0.2, dual=False, penalty=l2 -   0.0s\n",
      "[CV] C=0.2, dual=False, penalty=l2 ...................................\n",
      "[CV] .......................... C=0.2, dual=False, penalty=l2 -   0.0s\n",
      "[CV] C=0.2, dual=False, penalty=l2 ...................................\n",
      "[CV] .......................... C=0.2, dual=False, penalty=l2 -   0.0s\n",
      "[CV] C=0.2, dual=True, penalty=l2 ....................................\n",
      "[CV] ........................... C=0.2, dual=True, penalty=l2 -   0.0s\n",
      "[CV] C=0.2, dual=True, penalty=l2 ....................................\n",
      "[CV] ........................... C=0.2, dual=True, penalty=l2 -   0.0s\n",
      "[CV] C=0.2, dual=True, penalty=l2 ....................................\n",
      "[CV] ........................... C=0.2, dual=True, penalty=l2 -   0.0s\n",
      "[CV] C=0.2, dual=True, penalty=l2 ....................................\n",
      "[CV] ........................... C=0.2, dual=True, penalty=l2 -   0.0s\n",
      "[CV] C=0.2, dual=True, penalty=l2 ....................................\n",
      "[CV] ........................... C=0.2, dual=True, penalty=l2 -   0.0s\n",
      "[CV] C=0.30000000000000004, dual=False, penalty=l2 ...................\n",
      "[CV] .......... C=0.30000000000000004, dual=False, penalty=l2 -   0.0s\n",
      "[CV] C=0.30000000000000004, dual=False, penalty=l2 ...................\n",
      "[CV] .......... C=0.30000000000000004, dual=False, penalty=l2 -   0.0s\n",
      "[CV] C=0.30000000000000004, dual=False, penalty=l2 ...................\n",
      "[CV] .......... C=0.30000000000000004, dual=False, penalty=l2 -   0.0s\n",
      "[CV] C=0.30000000000000004, dual=False, penalty=l2 ...................\n",
      "[CV] .......... C=0.30000000000000004, dual=False, penalty=l2 -   0.0s\n",
      "[CV] C=0.30000000000000004, dual=False, penalty=l2 ...................\n",
      "[CV] .......... C=0.30000000000000004, dual=False, penalty=l2 -   0.0s\n",
      "[CV] C=0.30000000000000004, dual=True, penalty=l2 ....................\n",
      "[CV] ........... C=0.30000000000000004, dual=True, penalty=l2 -   0.0s\n",
      "[CV] C=0.30000000000000004, dual=True, penalty=l2 ....................\n",
      "[CV] ........... C=0.30000000000000004, dual=True, penalty=l2 -   0.0s\n",
      "[CV] C=0.30000000000000004, dual=True, penalty=l2 ....................\n",
      "[CV] ........... C=0.30000000000000004, dual=True, penalty=l2 -   0.0s\n",
      "[CV] C=0.30000000000000004, dual=True, penalty=l2 ....................\n",
      "[CV] ........... C=0.30000000000000004, dual=True, penalty=l2 -   0.0s\n",
      "[CV] C=0.30000000000000004, dual=True, penalty=l2 ....................\n",
      "[CV] ........... C=0.30000000000000004, dual=True, penalty=l2 -   0.0s\n",
      "[CV] C=0.4, dual=False, penalty=l2 ...................................\n",
      "[CV] .......................... C=0.4, dual=False, penalty=l2 -   0.0s\n",
      "[CV] C=0.4, dual=False, penalty=l2 ...................................\n",
      "[CV] .......................... C=0.4, dual=False, penalty=l2 -   0.0s\n",
      "[CV] C=0.4, dual=False, penalty=l2 ...................................\n",
      "[CV] .......................... C=0.4, dual=False, penalty=l2 -   0.0s\n",
      "[CV] C=0.4, dual=False, penalty=l2 ...................................\n",
      "[CV] .......................... C=0.4, dual=False, penalty=l2 -   0.0s\n",
      "[CV] C=0.4, dual=False, penalty=l2 ...................................\n",
      "[CV] .......................... C=0.4, dual=False, penalty=l2 -   0.0s\n",
      "[CV] C=0.4, dual=True, penalty=l2 ....................................\n",
      "[CV] ........................... C=0.4, dual=True, penalty=l2 -   0.0s\n",
      "[CV] C=0.4, dual=True, penalty=l2 ....................................\n",
      "[CV] ........................... C=0.4, dual=True, penalty=l2 -   0.0s\n",
      "[CV] C=0.4, dual=True, penalty=l2 ....................................\n",
      "[CV] ........................... C=0.4, dual=True, penalty=l2 -   0.0s\n",
      "[CV] C=0.4, dual=True, penalty=l2 ....................................\n",
      "[CV] ........................... C=0.4, dual=True, penalty=l2 -   0.0s\n",
      "[CV] C=0.4, dual=True, penalty=l2 ....................................\n",
      "[CV] ........................... C=0.4, dual=True, penalty=l2 -   0.0s\n",
      "[CV] C=0.5, dual=False, penalty=l2 ...................................\n",
      "[CV] .......................... C=0.5, dual=False, penalty=l2 -   0.0s\n",
      "[CV] C=0.5, dual=False, penalty=l2 ...................................\n",
      "[CV] .......................... C=0.5, dual=False, penalty=l2 -   0.0s\n",
      "[CV] C=0.5, dual=False, penalty=l2 ...................................\n",
      "[CV] .......................... C=0.5, dual=False, penalty=l2 -   0.0s\n",
      "[CV] C=0.5, dual=False, penalty=l2 ...................................\n",
      "[CV] .......................... C=0.5, dual=False, penalty=l2 -   0.0s\n",
      "[CV] C=0.5, dual=False, penalty=l2 ...................................\n",
      "[CV] .......................... C=0.5, dual=False, penalty=l2 -   0.0s\n",
      "[CV] C=0.5, dual=True, penalty=l2 ....................................\n",
      "[CV] ........................... C=0.5, dual=True, penalty=l2 -   0.0s\n",
      "[CV] C=0.5, dual=True, penalty=l2 ....................................\n",
      "[CV] ........................... C=0.5, dual=True, penalty=l2 -   0.0s\n",
      "[CV] C=0.5, dual=True, penalty=l2 ....................................\n",
      "[CV] ........................... C=0.5, dual=True, penalty=l2 -   0.0s\n",
      "[CV] C=0.5, dual=True, penalty=l2 ....................................\n",
      "[CV] ........................... C=0.5, dual=True, penalty=l2 -   0.0s\n",
      "[CV] C=0.5, dual=True, penalty=l2 ....................................\n",
      "[CV] ........................... C=0.5, dual=True, penalty=l2 -   0.0s\n",
      "[CV] C=0.6, dual=False, penalty=l2 ...................................\n",
      "[CV] .......................... C=0.6, dual=False, penalty=l2 -   0.0s\n",
      "[CV] C=0.6, dual=False, penalty=l2 ...................................\n",
      "[CV] .......................... C=0.6, dual=False, penalty=l2 -   0.0s\n",
      "[CV] C=0.6, dual=False, penalty=l2 ...................................\n",
      "[CV] .......................... C=0.6, dual=False, penalty=l2 -   0.0s\n",
      "[CV] C=0.6, dual=False, penalty=l2 ...................................\n",
      "[CV] .......................... C=0.6, dual=False, penalty=l2 -   0.0s\n",
      "[CV] C=0.6, dual=False, penalty=l2 ...................................\n",
      "[CV] .......................... C=0.6, dual=False, penalty=l2 -   0.0s\n",
      "[CV] C=0.6, dual=True, penalty=l2 ....................................\n",
      "[CV] ........................... C=0.6, dual=True, penalty=l2 -   0.0s\n",
      "[CV] C=0.6, dual=True, penalty=l2 ....................................\n",
      "[CV] ........................... C=0.6, dual=True, penalty=l2 -   0.0s\n",
      "[CV] C=0.6, dual=True, penalty=l2 ....................................\n",
      "[CV] ........................... C=0.6, dual=True, penalty=l2 -   0.0s\n",
      "[CV] C=0.6, dual=True, penalty=l2 ....................................\n",
      "[CV] ........................... C=0.6, dual=True, penalty=l2 -   0.0s\n",
      "[CV] C=0.6, dual=True, penalty=l2 ....................................\n"
     ]
    },
    {
     "name": "stdout",
     "output_type": "stream",
     "text": [
      "[CV] ........................... C=0.6, dual=True, penalty=l2 -   0.0s\n",
      "[CV] C=0.7000000000000001, dual=False, penalty=l2 ....................\n",
      "[CV] ........... C=0.7000000000000001, dual=False, penalty=l2 -   0.0s\n",
      "[CV] C=0.7000000000000001, dual=False, penalty=l2 ....................\n",
      "[CV] ........... C=0.7000000000000001, dual=False, penalty=l2 -   0.0s\n",
      "[CV] C=0.7000000000000001, dual=False, penalty=l2 ....................\n",
      "[CV] ........... C=0.7000000000000001, dual=False, penalty=l2 -   0.0s\n",
      "[CV] C=0.7000000000000001, dual=False, penalty=l2 ....................\n",
      "[CV] ........... C=0.7000000000000001, dual=False, penalty=l2 -   0.0s\n",
      "[CV] C=0.7000000000000001, dual=False, penalty=l2 ....................\n",
      "[CV] ........... C=0.7000000000000001, dual=False, penalty=l2 -   0.0s\n",
      "[CV] C=0.7000000000000001, dual=True, penalty=l2 .....................\n",
      "[CV] ............ C=0.7000000000000001, dual=True, penalty=l2 -   0.0s\n",
      "[CV] C=0.7000000000000001, dual=True, penalty=l2 .....................\n",
      "[CV] ............ C=0.7000000000000001, dual=True, penalty=l2 -   0.0s\n",
      "[CV] C=0.7000000000000001, dual=True, penalty=l2 .....................\n",
      "[CV] ............ C=0.7000000000000001, dual=True, penalty=l2 -   0.0s\n",
      "[CV] C=0.7000000000000001, dual=True, penalty=l2 .....................\n",
      "[CV] ............ C=0.7000000000000001, dual=True, penalty=l2 -   0.0s\n",
      "[CV] C=0.7000000000000001, dual=True, penalty=l2 .....................\n",
      "[CV] ............ C=0.7000000000000001, dual=True, penalty=l2 -   0.0s\n",
      "[CV] C=0.8, dual=False, penalty=l2 ...................................\n",
      "[CV] .......................... C=0.8, dual=False, penalty=l2 -   0.0s\n",
      "[CV] C=0.8, dual=False, penalty=l2 ...................................\n",
      "[CV] .......................... C=0.8, dual=False, penalty=l2 -   0.0s\n",
      "[CV] C=0.8, dual=False, penalty=l2 ...................................\n",
      "[CV] .......................... C=0.8, dual=False, penalty=l2 -   0.0s\n",
      "[CV] C=0.8, dual=False, penalty=l2 ...................................\n",
      "[CV] .......................... C=0.8, dual=False, penalty=l2 -   0.0s\n",
      "[CV] C=0.8, dual=False, penalty=l2 ...................................\n",
      "[CV] .......................... C=0.8, dual=False, penalty=l2 -   0.0s\n",
      "[CV] C=0.8, dual=True, penalty=l2 ....................................\n",
      "[CV] ........................... C=0.8, dual=True, penalty=l2 -   0.0s\n",
      "[CV] C=0.8, dual=True, penalty=l2 ....................................\n",
      "[CV] ........................... C=0.8, dual=True, penalty=l2 -   0.0s\n",
      "[CV] C=0.8, dual=True, penalty=l2 ....................................\n",
      "[CV] ........................... C=0.8, dual=True, penalty=l2 -   0.0s\n",
      "[CV] C=0.8, dual=True, penalty=l2 ....................................\n",
      "[CV] ........................... C=0.8, dual=True, penalty=l2 -   0.0s\n",
      "[CV] C=0.8, dual=True, penalty=l2 ....................................\n",
      "[CV] ........................... C=0.8, dual=True, penalty=l2 -   0.0s\n",
      "[CV] C=0.9, dual=False, penalty=l2 ...................................\n",
      "[CV] .......................... C=0.9, dual=False, penalty=l2 -   0.0s\n",
      "[CV] C=0.9, dual=False, penalty=l2 ...................................\n",
      "[CV] .......................... C=0.9, dual=False, penalty=l2 -   0.0s\n",
      "[CV] C=0.9, dual=False, penalty=l2 ...................................\n",
      "[CV] .......................... C=0.9, dual=False, penalty=l2 -   0.0s\n",
      "[CV] C=0.9, dual=False, penalty=l2 ...................................\n",
      "[CV] .......................... C=0.9, dual=False, penalty=l2 -   0.0s\n",
      "[CV] C=0.9, dual=False, penalty=l2 ...................................\n",
      "[CV] .......................... C=0.9, dual=False, penalty=l2 -   0.0s\n",
      "[CV] C=0.9, dual=True, penalty=l2 ....................................\n",
      "[CV] ........................... C=0.9, dual=True, penalty=l2 -   0.0s\n",
      "[CV] C=0.9, dual=True, penalty=l2 ....................................\n",
      "[CV] ........................... C=0.9, dual=True, penalty=l2 -   0.0s\n",
      "[CV] C=0.9, dual=True, penalty=l2 ....................................\n",
      "[CV] ........................... C=0.9, dual=True, penalty=l2 -   0.0s\n",
      "[CV] C=0.9, dual=True, penalty=l2 ....................................\n",
      "[CV] ........................... C=0.9, dual=True, penalty=l2 -   0.0s\n",
      "[CV] C=0.9, dual=True, penalty=l2 ....................................\n",
      "[CV] ........................... C=0.9, dual=True, penalty=l2 -   0.0s\n",
      "[CV] C=1.0, dual=False, penalty=l2 ...................................\n",
      "[CV] .......................... C=1.0, dual=False, penalty=l2 -   0.0s\n",
      "[CV] C=1.0, dual=False, penalty=l2 ...................................\n",
      "[CV] .......................... C=1.0, dual=False, penalty=l2 -   0.0s\n",
      "[CV] C=1.0, dual=False, penalty=l2 ...................................\n",
      "[CV] .......................... C=1.0, dual=False, penalty=l2 -   0.0s\n",
      "[CV] C=1.0, dual=False, penalty=l2 ...................................\n",
      "[CV] .......................... C=1.0, dual=False, penalty=l2 -   0.0s\n",
      "[CV] C=1.0, dual=False, penalty=l2 ...................................\n",
      "[CV] .......................... C=1.0, dual=False, penalty=l2 -   0.0s\n",
      "[CV] C=1.0, dual=True, penalty=l2 ....................................\n",
      "[CV] ........................... C=1.0, dual=True, penalty=l2 -   0.0s\n",
      "[CV] C=1.0, dual=True, penalty=l2 ....................................\n",
      "[CV] ........................... C=1.0, dual=True, penalty=l2 -   0.0s\n",
      "[CV] C=1.0, dual=True, penalty=l2 ....................................\n",
      "[CV] ........................... C=1.0, dual=True, penalty=l2 -   0.0s\n",
      "[CV] C=1.0, dual=True, penalty=l2 ....................................\n",
      "[CV] ........................... C=1.0, dual=True, penalty=l2 -   0.0s\n",
      "[CV] C=1.0, dual=True, penalty=l2 ....................................\n",
      "[CV] ........................... C=1.0, dual=True, penalty=l2 -   0.0s\n",
      "[CV] C=1.1, dual=False, penalty=l2 ...................................\n",
      "[CV] .......................... C=1.1, dual=False, penalty=l2 -   0.0s\n",
      "[CV] C=1.1, dual=False, penalty=l2 ...................................\n",
      "[CV] .......................... C=1.1, dual=False, penalty=l2 -   0.0s\n",
      "[CV] C=1.1, dual=False, penalty=l2 ...................................\n",
      "[CV] .......................... C=1.1, dual=False, penalty=l2 -   0.0s\n",
      "[CV] C=1.1, dual=False, penalty=l2 ...................................\n",
      "[CV] .......................... C=1.1, dual=False, penalty=l2 -   0.0s\n",
      "[CV] C=1.1, dual=False, penalty=l2 ...................................\n",
      "[CV] .......................... C=1.1, dual=False, penalty=l2 -   0.0s\n",
      "[CV] C=1.1, dual=True, penalty=l2 ....................................\n",
      "[CV] ........................... C=1.1, dual=True, penalty=l2 -   0.0s\n",
      "[CV] C=1.1, dual=True, penalty=l2 ....................................\n",
      "[CV] ........................... C=1.1, dual=True, penalty=l2 -   0.0s\n",
      "[CV] C=1.1, dual=True, penalty=l2 ....................................\n",
      "[CV] ........................... C=1.1, dual=True, penalty=l2 -   0.0s\n",
      "[CV] C=1.1, dual=True, penalty=l2 ....................................\n",
      "[CV] ........................... C=1.1, dual=True, penalty=l2 -   0.0s\n",
      "[CV] C=1.1, dual=True, penalty=l2 ....................................\n",
      "[CV] ........................... C=1.1, dual=True, penalty=l2 -   0.0s\n",
      "[CV] C=1.2000000000000002, dual=False, penalty=l2 ....................\n",
      "[CV] ........... C=1.2000000000000002, dual=False, penalty=l2 -   0.0s\n",
      "[CV] C=1.2000000000000002, dual=False, penalty=l2 ....................\n",
      "[CV] ........... C=1.2000000000000002, dual=False, penalty=l2 -   0.0s\n",
      "[CV] C=1.2000000000000002, dual=False, penalty=l2 ....................\n",
      "[CV] ........... C=1.2000000000000002, dual=False, penalty=l2 -   0.0s\n",
      "[CV] C=1.2000000000000002, dual=False, penalty=l2 ....................\n",
      "[CV] ........... C=1.2000000000000002, dual=False, penalty=l2 -   0.0s\n",
      "[CV] C=1.2000000000000002, dual=False, penalty=l2 ....................\n",
      "[CV] ........... C=1.2000000000000002, dual=False, penalty=l2 -   0.0s\n",
      "[CV] C=1.2000000000000002, dual=True, penalty=l2 .....................\n",
      "[CV] ............ C=1.2000000000000002, dual=True, penalty=l2 -   0.0s\n",
      "[CV] C=1.2000000000000002, dual=True, penalty=l2 .....................\n",
      "[CV] ............ C=1.2000000000000002, dual=True, penalty=l2 -   0.0s\n",
      "[CV] C=1.2000000000000002, dual=True, penalty=l2 .....................\n"
     ]
    },
    {
     "name": "stdout",
     "output_type": "stream",
     "text": [
      "[CV] ............ C=1.2000000000000002, dual=True, penalty=l2 -   0.0s\n",
      "[CV] C=1.2000000000000002, dual=True, penalty=l2 .....................\n",
      "[CV] ............ C=1.2000000000000002, dual=True, penalty=l2 -   0.0s\n",
      "[CV] C=1.2000000000000002, dual=True, penalty=l2 .....................\n",
      "[CV] ............ C=1.2000000000000002, dual=True, penalty=l2 -   0.0s\n",
      "[CV] C=1.3000000000000003, dual=False, penalty=l2 ....................\n",
      "[CV] ........... C=1.3000000000000003, dual=False, penalty=l2 -   0.0s\n",
      "[CV] C=1.3000000000000003, dual=False, penalty=l2 ....................\n",
      "[CV] ........... C=1.3000000000000003, dual=False, penalty=l2 -   0.0s\n",
      "[CV] C=1.3000000000000003, dual=False, penalty=l2 ....................\n",
      "[CV] ........... C=1.3000000000000003, dual=False, penalty=l2 -   0.0s\n",
      "[CV] C=1.3000000000000003, dual=False, penalty=l2 ....................\n",
      "[CV] ........... C=1.3000000000000003, dual=False, penalty=l2 -   0.0s\n",
      "[CV] C=1.3000000000000003, dual=False, penalty=l2 ....................\n",
      "[CV] ........... C=1.3000000000000003, dual=False, penalty=l2 -   0.0s\n",
      "[CV] C=1.3000000000000003, dual=True, penalty=l2 .....................\n",
      "[CV] ............ C=1.3000000000000003, dual=True, penalty=l2 -   0.0s\n",
      "[CV] C=1.3000000000000003, dual=True, penalty=l2 .....................\n",
      "[CV] ............ C=1.3000000000000003, dual=True, penalty=l2 -   0.0s\n",
      "[CV] C=1.3000000000000003, dual=True, penalty=l2 .....................\n",
      "[CV] ............ C=1.3000000000000003, dual=True, penalty=l2 -   0.0s\n",
      "[CV] C=1.3000000000000003, dual=True, penalty=l2 .....................\n",
      "[CV] ............ C=1.3000000000000003, dual=True, penalty=l2 -   0.0s\n",
      "[CV] C=1.3000000000000003, dual=True, penalty=l2 .....................\n",
      "[CV] ............ C=1.3000000000000003, dual=True, penalty=l2 -   0.0s\n",
      "[CV] C=1.4000000000000001, dual=False, penalty=l2 ....................\n",
      "[CV] ........... C=1.4000000000000001, dual=False, penalty=l2 -   0.0s\n",
      "[CV] C=1.4000000000000001, dual=False, penalty=l2 ....................\n",
      "[CV] ........... C=1.4000000000000001, dual=False, penalty=l2 -   0.0s\n",
      "[CV] C=1.4000000000000001, dual=False, penalty=l2 ....................\n",
      "[CV] ........... C=1.4000000000000001, dual=False, penalty=l2 -   0.0s\n",
      "[CV] C=1.4000000000000001, dual=False, penalty=l2 ....................\n",
      "[CV] ........... C=1.4000000000000001, dual=False, penalty=l2 -   0.0s\n",
      "[CV] C=1.4000000000000001, dual=False, penalty=l2 ....................\n",
      "[CV] ........... C=1.4000000000000001, dual=False, penalty=l2 -   0.0s\n",
      "[CV] C=1.4000000000000001, dual=True, penalty=l2 .....................\n",
      "[CV] ............ C=1.4000000000000001, dual=True, penalty=l2 -   0.0s\n",
      "[CV] C=1.4000000000000001, dual=True, penalty=l2 .....................\n",
      "[CV] ............ C=1.4000000000000001, dual=True, penalty=l2 -   0.0s\n",
      "[CV] C=1.4000000000000001, dual=True, penalty=l2 .....................\n",
      "[CV] ............ C=1.4000000000000001, dual=True, penalty=l2 -   0.0s\n",
      "[CV] C=1.4000000000000001, dual=True, penalty=l2 .....................\n",
      "[CV] ............ C=1.4000000000000001, dual=True, penalty=l2 -   0.0s\n",
      "[CV] C=1.4000000000000001, dual=True, penalty=l2 .....................\n",
      "[CV] ............ C=1.4000000000000001, dual=True, penalty=l2 -   0.0s\n",
      "[CV] C=0.4, dual=False, penalty=l1 ...................................\n",
      "[CV] .......................... C=0.4, dual=False, penalty=l1 -   0.0s\n",
      "[CV] C=0.4, dual=False, penalty=l1 ...................................\n",
      "[CV] .......................... C=0.4, dual=False, penalty=l1 -   0.0s\n",
      "[CV] C=0.4, dual=False, penalty=l1 ...................................\n",
      "[CV] .......................... C=0.4, dual=False, penalty=l1 -   0.0s\n",
      "[CV] C=0.4, dual=False, penalty=l1 ...................................\n",
      "[CV] .......................... C=0.4, dual=False, penalty=l1 -   0.0s\n",
      "[CV] C=0.4, dual=False, penalty=l1 ...................................\n",
      "[CV] .......................... C=0.4, dual=False, penalty=l1 -   0.0s\n"
     ]
    },
    {
     "name": "stderr",
     "output_type": "stream",
     "text": [
      "[Parallel(n_jobs=1)]: Done 145 out of 145 | elapsed:  4.2min finished\n"
     ]
    },
    {
     "name": "stdout",
     "output_type": "stream",
     "text": [
      "Acheaved score of:\t 0.9599311907359235\n",
      "With following paramaters:\t {'C': 1.3000000000000003, 'dual': False, 'penalty': 'l2'}\n"
     ]
    }
   ],
   "source": [
    "param_grid = [\n",
    "    {'C': np.arange(0.1, 1.5,0.1), 'dual': [False, True], 'penalty': ['l2']},\n",
    "    {'C': np.arange(0.4, 0.5,0.1), 'dual': [False], 'penalty': ['l1']},\n",
    "]\n",
    "grid_search_svc = GridSearchCV(lin_svc, param_grid, cv=5, return_train_score = True, verbose=2)\n",
    "grid_search_svc.fit(X_train_prepared_biased, y_train)\n",
    "print(\"Acheaved score of:\\t\", grid_search_svc.best_score_)\n",
    "print(\"With following paramaters:\\t\", grid_search_svc.best_params_)"
   ]
  },
  {
   "cell_type": "code",
   "execution_count": 30,
   "metadata": {},
   "outputs": [
    {
     "data": {
      "text/plain": [
       "LogisticRegression(C=1, class_weight=None, dual=False, fit_intercept=True,\n",
       "          intercept_scaling=1, max_iter=100, multi_class='ovr', n_jobs=-1,\n",
       "          penalty='l1', random_state=42, solver='liblinear', tol=0.0001,\n",
       "          verbose=0, warm_start=False)"
      ]
     },
     "execution_count": 30,
     "metadata": {},
     "output_type": "execute_result"
    }
   ],
   "source": [
    "optam_clf = grid_search.best_estimator_\n",
    "optam_clf.fit(X=X_train_prepared,y=y_train)"
   ]
  },
  {
   "cell_type": "code",
   "execution_count": 21,
   "metadata": {},
   "outputs": [],
   "source": [
    "X_test_prepared = text_clf.transform(X_test)"
   ]
  },
  {
   "cell_type": "code",
   "execution_count": 22,
   "metadata": {},
   "outputs": [],
   "source": [
    "X_test_prepared_biased = set_bias(X_train_prepared.toarray(),\n",
    "                                   bias_list,\n",
    "                                   bias_strength=1.2)"
   ]
  },
  {
   "cell_type": "code",
   "execution_count": 33,
   "metadata": {},
   "outputs": [],
   "source": [
    "pred = optam_clf.predict_proba(X_test_prepared)[:,1]>0.2"
   ]
  },
  {
   "cell_type": "code",
   "execution_count": 36,
   "metadata": {},
   "outputs": [],
   "source": [
    "import pickle\n",
    "with open('../models/fin_not_fin_v2.model', 'wb') as f:\n",
    "    pickle.dump({'transformer':text_clf, 'model':optam_clf}, f)"
   ]
  },
  {
   "cell_type": "code",
   "execution_count": 34,
   "metadata": {},
   "outputs": [
    {
     "name": "stdout",
     "output_type": "stream",
     "text": [
      "0.9831252109348633\n"
     ]
    },
    {
     "data": {
      "text/plain": [
       "0.9159254908541702"
      ]
     },
     "execution_count": 34,
     "metadata": {},
     "output_type": "execute_result"
    }
   ],
   "source": [
    "from sklearn.metrics import accuracy_score, f1_score, recall_score\n",
    "print(recall_score(y_test, pred))\n",
    "accuracy_score(y_test,pred)"
   ]
  },
  {
   "cell_type": "code",
   "execution_count": null,
   "metadata": {},
   "outputs": [],
   "source": []
  }
 ],
 "metadata": {
  "kernelspec": {
   "display_name": "Python 3",
   "language": "python",
   "name": "python3"
  },
  "language_info": {
   "codemirror_mode": {
    "name": "ipython",
    "version": 3
   },
   "file_extension": ".py",
   "mimetype": "text/x-python",
   "name": "python",
   "nbconvert_exporter": "python",
   "pygments_lexer": "ipython3",
   "version": "3.6.5"
  }
 },
 "nbformat": 4,
 "nbformat_minor": 2
}
